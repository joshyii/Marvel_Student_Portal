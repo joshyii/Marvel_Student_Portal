{
 "cells": [
  {
   "cell_type": "code",
   "execution_count": 15,
   "metadata": {},
   "outputs": [
    {
     "name": "stdout",
     "output_type": "stream",
     "text": [
      "0.11102062889507838\n",
      "0.6887701620969437\n",
      "0.7442804765444829\n"
     ]
    }
   ],
   "source": [
    "%store -r EmotionAIOutput\n",
    "%store -r MentalAIOutput\n",
    "\n",
    "print(EmotionAIOutput)\n",
    "print(MentalAIOutput)\n",
    "\n",
    "combinedOutput = (EmotionAIOutput + MentalAIOutput*2)/2\n",
    "print(combinedOutput)\n",
    "\n",
    "\n"
   ]
  }
 ],
 "metadata": {
  "kernelspec": {
   "display_name": "tf",
   "language": "python",
   "name": "python3"
  },
  "language_info": {
   "codemirror_mode": {
    "name": "ipython",
    "version": 3
   },
   "file_extension": ".py",
   "mimetype": "text/x-python",
   "name": "python",
   "nbconvert_exporter": "python",
   "pygments_lexer": "ipython3",
   "version": "3.9.18"
  }
 },
 "nbformat": 4,
 "nbformat_minor": 2
}
